{
 "cells": [
  {
   "cell_type": "code",
   "execution_count": 1,
   "metadata": {},
   "outputs": [],
   "source": [
    "from sklearn.datasets import fetch_20newsgroups\n",
    "from pyspark.ml.evaluation import MulticlassClassificationEvaluator\n",
    "from pyspark.ml.feature import Tokenizer, StopWordsRemover, CountVectorizer, IDF, MinHashLSH\n",
    "from pyspark.ml import Pipeline\n",
    "from pyspark.mllib.evaluation import MulticlassMetrics\n",
    "from pyspark.sql import SparkSession, DataFrame\n",
    "from pyspark.sql import functions as f\n",
    "from pyspark.sql.types import *\n",
    "import numpy as np\n",
    "import pandas as pd\n",
    "from tqdm import tqdm"
   ]
  },
  {
   "cell_type": "markdown",
   "metadata": {},
   "source": [
    "### Carregar dataset ``20 News Groups``"
   ]
  },
  {
   "cell_type": "code",
   "execution_count": 2,
   "metadata": {},
   "outputs": [],
   "source": [
    "# executar essa célula pois vai ser útil no futuro\n",
    "data = fetch_20newsgroups(subset='all')"
   ]
  },
  {
   "cell_type": "code",
   "execution_count": 11,
   "metadata": {},
   "outputs": [],
   "source": [
    "data_group = list(zip(data.data, data.target.tolist()))\n",
    "data_group = [[tupla[0],tupla[1]] for tupla in data_group]"
   ]
  },
  {
   "cell_type": "code",
   "execution_count": 12,
   "metadata": {},
   "outputs": [],
   "source": [
    "for i in range(len(data_group)):\n",
    "    data_group[i][1] = data.target_names[data_group[i][1]]"
   ]
  },
  {
   "cell_type": "code",
   "execution_count": 13,
   "metadata": {},
   "outputs": [],
   "source": [
    "for i in range(len(data_group)):\n",
    "    data_group[i][0] = data_group[i][0].replace('\\n',' ')\n",
    "    data_group[i][0] = data_group[i][0].replace('\\t',' ')\n",
    "    data_group[i][0] = data_group[i][0].replace('\\r',' ')\n",
    "    data_group[i][0] = data_group[i][0].replace(';','')"
   ]
  },
  {
   "cell_type": "code",
   "execution_count": null,
   "metadata": {},
   "outputs": [],
   "source": []
  },
  {
   "cell_type": "markdown",
   "metadata": {},
   "source": [
    "#### Salva num .csv"
   ]
  },
  {
   "cell_type": "code",
   "execution_count": 14,
   "metadata": {},
   "outputs": [],
   "source": [
    "df = pd.DataFrame(data_group, columns=['data','target'])"
   ]
  },
  {
   "cell_type": "code",
   "execution_count": 15,
   "metadata": {},
   "outputs": [],
   "source": [
    "df.to_csv('newsgroups_data.csv', index=True, sep=';', index_label='id')"
   ]
  },
  {
   "cell_type": "code",
   "execution_count": null,
   "metadata": {},
   "outputs": [],
   "source": []
  },
  {
   "cell_type": "markdown",
   "metadata": {},
   "source": [
    "### Carregar o .csv em dataframe"
   ]
  },
  {
   "cell_type": "code",
   "execution_count": 3,
   "metadata": {},
   "outputs": [],
   "source": [
    "spark = SparkSession.builder.appName('Trabalho III'). \\\n",
    "        config('spark.some.config.option','some-value').getOrCreate()\n",
    "sc = spark.sparkContext"
   ]
  },
  {
   "cell_type": "code",
   "execution_count": 4,
   "metadata": {},
   "outputs": [],
   "source": [
    "df_data = spark.read.load('newsgroups_data.csv', format='csv', sep=';', header=True)\n",
    "df_data = df_data.where(f.col(\"data\").isNotNull())\n",
    "df_data = df_data.fillna({'data':''})"
   ]
  },
  {
   "cell_type": "markdown",
   "metadata": {},
   "source": [
    "#### Tratamento do texto"
   ]
  },
  {
   "cell_type": "code",
   "execution_count": 5,
   "metadata": {},
   "outputs": [],
   "source": [
    "tokenizer = Tokenizer(inputCol='data', outputCol='tokens')\n",
    "swremover = StopWordsRemover(inputCol='tokens', outputCol='words')\n",
    "cv = CountVectorizer(inputCol='words', outputCol='rawFeatures', vocabSize=1000)\n",
    "idf = IDF(inputCol='rawFeatures',outputCol='features')"
   ]
  },
  {
   "cell_type": "code",
   "execution_count": 6,
   "metadata": {},
   "outputs": [],
   "source": [
    "pipeline = Pipeline(stages=[tokenizer, swremover, cv, idf])\n",
    "fit_df_data = pipeline.fit(dataset=df_data).transform(df_data)"
   ]
  },
  {
   "cell_type": "markdown",
   "metadata": {},
   "source": [
    "#### Modelo LSH"
   ]
  },
  {
   "cell_type": "code",
   "execution_count": 9,
   "metadata": {},
   "outputs": [],
   "source": [
    "mh = MinHashLSH(inputCol='features', outputCol='hashes', numHashTables=5)\n",
    "model = mh.fit(fit_df_data)\n",
    "fit_df_data = model.transform(fit_df_data)"
   ]
  },
  {
   "cell_type": "code",
   "execution_count": 10,
   "metadata": {},
   "outputs": [],
   "source": [
    "explodeHashes = f.udf(lambda l: float(l[0]), FloatType())\n",
    "fit_df_data = fit_df_data.select('id', 'features', 'target', \\\n",
    "                                 f.explode('hashes').alias('hashes'))\n",
    "fit_df_data = fit_df_data.withColumn('extracted', explodeHashes(f.col('hashes')))"
   ]
  },
  {
   "cell_type": "markdown",
   "metadata": {},
   "source": [
    "#### Divisão entre treino e teste"
   ]
  },
  {
   "cell_type": "code",
   "execution_count": 11,
   "metadata": {},
   "outputs": [],
   "source": [
    "train_ratio = 0.9\n",
    "test_ratio = 0.1"
   ]
  },
  {
   "cell_type": "code",
   "execution_count": 12,
   "metadata": {},
   "outputs": [],
   "source": [
    "train, test = fit_df_data.randomSplit([train_ratio,test_ratio])"
   ]
  },
  {
   "cell_type": "code",
   "execution_count": 13,
   "metadata": {},
   "outputs": [],
   "source": [
    "# pegando os primeiros 100 exemplos para teste\n",
    "test_values = test.take(100)"
   ]
  },
  {
   "cell_type": "code",
   "execution_count": 14,
   "metadata": {},
   "outputs": [],
   "source": [
    "def distanceByKey(vect1, vect2):\n",
    "    set1 = set(vect1)\n",
    "    set2 = set(vect2)\n",
    "    lenInter = len(set1.intersection(set2))\n",
    "    return (1 - lenInter) / float(len(set1) + len(set2) - lenInter)\n",
    "\n",
    "def distance(keyFeat):\n",
    "    return f.udf(lambda l: distanceByKey(l, keyFeat), DoubleType())"
   ]
  },
  {
   "cell_type": "markdown",
   "metadata": {},
   "source": [
    "## K-NN aproximado"
   ]
  },
  {
   "cell_type": "code",
   "execution_count": 15,
   "metadata": {},
   "outputs": [],
   "source": [
    "# escolha do K\n",
    "K = 5"
   ]
  },
  {
   "cell_type": "code",
   "execution_count": 16,
   "metadata": {
    "scrolled": true
   },
   "outputs": [
    {
     "name": "stderr",
     "output_type": "stream",
     "text": [
      "100%|██████████| 100/100 [13:17<00:00,  7.97s/it]\n"
     ]
    }
   ],
   "source": [
    "predictionAndLabels = []\n",
    "for value in tqdm(test_values):\n",
    "    hashEncounters = train.where(f'extracted == {value[\"extracted\"]}')\n",
    "    dists = hashEncounters.withColumn('distCol', distance(value['features'])(f.col('features')))\n",
    "    predictedList = dists.orderBy(f.col('distCol').desc()).limit(K).select('target').collect()\n",
    "    \n",
    "    predicts = [predictedList[i][0] for i in range(len(predictedList))]\n",
    "    frequency = {}\n",
    "                                 \n",
    "    for predict in predicts:\n",
    "        if(predict not in frequency):\n",
    "            frequency[predict] = 1\n",
    "        else:\n",
    "            frequency[predict] += 1\n",
    "    if(len(predictedList) > 0):\n",
    "        predictionAndLabels.append([sorted(frequency.items(), key=lambda x: x[1],\\\n",
    "                                   reverse=True)[0][0], value['target']])"
   ]
  },
  {
   "cell_type": "code",
   "execution_count": 17,
   "metadata": {},
   "outputs": [],
   "source": [
    "class_to_float = {}\n",
    "i = float(1.0)\n",
    "for name in data.target_names:\n",
    "    class_to_float[name] = i\n",
    "    i += 1.0"
   ]
  },
  {
   "cell_type": "code",
   "execution_count": 18,
   "metadata": {},
   "outputs": [],
   "source": [
    "for i in range(len(predictionAndLabels)):\n",
    "    for j in range(2):\n",
    "        predictionAndLabels[i][j] = class_to_float[predictionAndLabels[i][j]]"
   ]
  },
  {
   "cell_type": "code",
   "execution_count": 24,
   "metadata": {},
   "outputs": [],
   "source": [
    "metricsDf = spark.createDataFrame(predictionAndLabels,['pred','label'])\n",
    "metrics = MulticlassClassificationEvaluator(predictionCol='pred', labelCol='label')"
   ]
  },
  {
   "cell_type": "code",
   "execution_count": 25,
   "metadata": {},
   "outputs": [
    {
     "name": "stdout",
     "output_type": "stream",
     "text": [
      "Precision: 0.10783333333333334\n"
     ]
    }
   ],
   "source": [
    "print('Precision:', metrics.evaluate(metricsDf, {metrics.metricName :'weightedPrecision'}))"
   ]
  },
  {
   "cell_type": "code",
   "execution_count": 26,
   "metadata": {},
   "outputs": [
    {
     "name": "stdout",
     "output_type": "stream",
     "text": [
      "Recall: 0.060000000000000005\n"
     ]
    }
   ],
   "source": [
    "print('Recall:', metrics.evaluate(metricsDf, {metrics.metricName :'weightedRecall'}))"
   ]
  },
  {
   "cell_type": "code",
   "execution_count": 27,
   "metadata": {},
   "outputs": [
    {
     "name": "stdout",
     "output_type": "stream",
     "text": [
      "F1: 0.07057575757575757\n"
     ]
    }
   ],
   "source": [
    "print('F1:', metrics.evaluate(metricsDf,{metrics.metricName :'f1'}))"
   ]
  },
  {
   "cell_type": "code",
   "execution_count": null,
   "metadata": {},
   "outputs": [],
   "source": []
  }
 ],
 "metadata": {
  "kernelspec": {
   "display_name": "Python 3",
   "language": "python",
   "name": "python3"
  },
  "language_info": {
   "codemirror_mode": {
    "name": "ipython",
    "version": 3
   },
   "file_extension": ".py",
   "mimetype": "text/x-python",
   "name": "python",
   "nbconvert_exporter": "python",
   "pygments_lexer": "ipython3",
   "version": "3.7.4"
  }
 },
 "nbformat": 4,
 "nbformat_minor": 2
}
